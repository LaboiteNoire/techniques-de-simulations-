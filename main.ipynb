{
 "cells": [
  {
   "cell_type": "markdown",
   "id": "8c4b074d-3996-4a47-8793-ea572363747a",
   "metadata": {},
   "source": [
    "# Projet Techniques de Simulation"
   ]
  },
  {
   "cell_type": "code",
   "execution_count": null,
   "id": "752fbddf-57c7-430c-a116-4074dfe987c3",
   "metadata": {},
   "outputs": [],
   "source": []
  }
 ],
 "metadata": {
  "kernelspec": {
   "display_name": "Python 3 (ipykernel)",
   "language": "python",
   "name": "python3"
  },
  "language_info": {
   "codemirror_mode": {
    "name": "ipython",
    "version": 3
   },
   "file_extension": ".py",
   "mimetype": "text/x-python",
   "name": "python",
   "nbconvert_exporter": "python",
   "pygments_lexer": "ipython3",
   "version": "3.12.6"
  }
 },
 "nbformat": 4,
 "nbformat_minor": 5
}
